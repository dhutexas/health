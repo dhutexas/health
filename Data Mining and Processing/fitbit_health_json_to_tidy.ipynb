{
 "cells": [
  {
   "cell_type": "code",
   "execution_count": 1,
   "id": "discrete-resident",
   "metadata": {},
   "outputs": [],
   "source": [
    "import pandas as pd\n",
    "import numpy as np\n",
    "\n",
    "import json\n",
    "from pandas.io.json import json_normalize\n",
    "\n",
    "import datetime\n",
    "from pytz import timezone\n",
    "\n",
    "from os import listdir"
   ]
  },
  {
   "cell_type": "markdown",
   "id": "configured-article",
   "metadata": {},
   "source": [
    "Fitbit data arrives broken up into a series of JSON files, each containing a different range of dates and the corresponding values on a type of metric (exercise, heart rate, sleep, etc.). \n",
    "\n",
    "To speed construction of the data into a single dataframe, the following code pulls similarly labeled files (such as all of those with 'steps' in the filename), normalizes the JSON into a 'flat' dataframe and each of the desired values are appended to lists. When each file has been read, the lists are zipped into a single pandas dataframe.\n",
    "\n",
    "Additional processing steps, such as converting time zones to local (from UTC), ensuring the dates are in a consistent format (for matching the dataframes by date), and converting some metrics to more readily interpretable forms (milliseconds to seconds)."
   ]
  },
  {
   "cell_type": "markdown",
   "id": "polished-uniform",
   "metadata": {},
   "source": [
    "## Daily Steps Taken"
   ]
  },
  {
   "cell_type": "code",
   "execution_count": 2,
   "id": "aboriginal-container",
   "metadata": {},
   "outputs": [],
   "source": [
    "dir_path = 'health/Data/'\n",
    "matching_phrase = 'steps-'\n",
    "\n",
    "date = []\n",
    "value = []\n",
    "\n",
    "for file in listdir(dir_path):\n",
    "    if matching_phrase in file:\n",
    "        with open(dir_path + file) as f:\n",
    "            data = json.load(f)\n",
    "            df = pd.json_normalize(data)\n",
    "            df.columns = ['date', 'value']\n",
    "\n",
    "            for i in df['date']:\n",
    "                date.append(i)\n",
    "\n",
    "            for i in df['value']:\n",
    "                value.append(i)\n",
    "\n",
    "# zip lists into single dataframe\n",
    "df = pd.DataFrame(list(zip(date, value)), \n",
    "   columns =['date', 'value'])\n",
    "\n",
    "# convert time data to local timezone (CST)\n",
    "df['date'] = pd.to_datetime(df['date']).dt.tz_localize('America/Chicago', \n",
    "                                                       ambiguous = 'NaT',\n",
    "                                                       nonexistent='shift_forward')\n",
    "\n",
    "# remove time from date for grouping\n",
    "df['day'] = pd.to_datetime(df['date']).dt.date\n",
    "\n",
    "# convert value to numeric\n",
    "df['value'] = pd.to_numeric(df['value'], errors = 'coerce')"
   ]
  },
  {
   "cell_type": "markdown",
   "id": "environmental-accounting",
   "metadata": {},
   "source": [
    "Steps data from Fitbit come in minute intervals. For analysis, only the daily level is of interest so the dataframe to be returned needs these values aggregated by date."
   ]
  },
  {
   "cell_type": "code",
   "execution_count": 3,
   "id": "herbal-circuit",
   "metadata": {},
   "outputs": [
    {
     "data": {
      "text/html": [
       "<div>\n",
       "<style scoped>\n",
       "    .dataframe tbody tr th:only-of-type {\n",
       "        vertical-align: middle;\n",
       "    }\n",
       "\n",
       "    .dataframe tbody tr th {\n",
       "        vertical-align: top;\n",
       "    }\n",
       "\n",
       "    .dataframe thead th {\n",
       "        text-align: right;\n",
       "    }\n",
       "</style>\n",
       "<table border=\"1\" class=\"dataframe\">\n",
       "  <thead>\n",
       "    <tr style=\"text-align: right;\">\n",
       "      <th></th>\n",
       "      <th>date</th>\n",
       "      <th>steps</th>\n",
       "    </tr>\n",
       "  </thead>\n",
       "  <tbody>\n",
       "    <tr>\n",
       "      <th>0</th>\n",
       "      <td>2018-02-09</td>\n",
       "      <td>10</td>\n",
       "    </tr>\n",
       "    <tr>\n",
       "      <th>1</th>\n",
       "      <td>2018-02-10</td>\n",
       "      <td>7964</td>\n",
       "    </tr>\n",
       "    <tr>\n",
       "      <th>2</th>\n",
       "      <td>2018-02-11</td>\n",
       "      <td>7582</td>\n",
       "    </tr>\n",
       "    <tr>\n",
       "      <th>3</th>\n",
       "      <td>2018-02-12</td>\n",
       "      <td>12535</td>\n",
       "    </tr>\n",
       "    <tr>\n",
       "      <th>4</th>\n",
       "      <td>2018-02-13</td>\n",
       "      <td>18006</td>\n",
       "    </tr>\n",
       "    <tr>\n",
       "      <th>...</th>\n",
       "      <td>...</td>\n",
       "      <td>...</td>\n",
       "    </tr>\n",
       "    <tr>\n",
       "      <th>625</th>\n",
       "      <td>2019-11-04</td>\n",
       "      <td>0</td>\n",
       "    </tr>\n",
       "    <tr>\n",
       "      <th>626</th>\n",
       "      <td>2019-11-05</td>\n",
       "      <td>32</td>\n",
       "    </tr>\n",
       "    <tr>\n",
       "      <th>627</th>\n",
       "      <td>2019-11-06</td>\n",
       "      <td>0</td>\n",
       "    </tr>\n",
       "    <tr>\n",
       "      <th>628</th>\n",
       "      <td>2019-11-07</td>\n",
       "      <td>0</td>\n",
       "    </tr>\n",
       "    <tr>\n",
       "      <th>629</th>\n",
       "      <td>2019-12-16</td>\n",
       "      <td>0</td>\n",
       "    </tr>\n",
       "  </tbody>\n",
       "</table>\n",
       "<p>630 rows × 2 columns</p>\n",
       "</div>"
      ],
      "text/plain": [
       "           date  steps\n",
       "0    2018-02-09     10\n",
       "1    2018-02-10   7964\n",
       "2    2018-02-11   7582\n",
       "3    2018-02-12  12535\n",
       "4    2018-02-13  18006\n",
       "..          ...    ...\n",
       "625  2019-11-04      0\n",
       "626  2019-11-05     32\n",
       "627  2019-11-06      0\n",
       "628  2019-11-07      0\n",
       "629  2019-12-16      0\n",
       "\n",
       "[630 rows x 2 columns]"
      ]
     },
     "execution_count": 3,
     "metadata": {},
     "output_type": "execute_result"
    }
   ],
   "source": [
    "steps = df.copy()\n",
    "\n",
    "steps = steps.groupby([\"day\"]).agg(steps=(\"value\",\"sum\")).reset_index()\n",
    "\n",
    "steps = steps.rename(columns={'day': 'date'})\n",
    "\n",
    "steps"
   ]
  },
  {
   "cell_type": "markdown",
   "id": "municipal-theory",
   "metadata": {},
   "source": [
    "## Daily Average Resting Heart Rate"
   ]
  },
  {
   "cell_type": "code",
   "execution_count": null,
   "id": "colonial-roberts",
   "metadata": {},
   "outputs": [],
   "source": [
    "matching_phrase = 'heart'\n",
    "\n",
    "date = []\n",
    "value = []\n",
    "\n",
    "for file in listdir(dir_path):\n",
    "    if matching_phrase in file:\n",
    "        with open(dir_path + file) as f:\n",
    "            data = json.load(f)\n",
    "            df = pd.json_normalize(data)\n",
    "            # this json has four columns and the JSON is formatted differently than the steps data\n",
    "            df.columns = ['date_utc', 'date', 'rest_avg_hr', 'error']\n",
    "\n",
    "            for i in df['date']:\n",
    "                date.append(i)\n",
    "\n",
    "            for i in df['rest_avg_hr']:\n",
    "                value.append(i)\n",
    "\n",
    "df = pd.DataFrame(list(zip(date, value)), \n",
    "   columns =['date', 'rest_avg_hr'])\n",
    "\n",
    "# gather only dates with data\n",
    "heart_rate = df.copy()\n",
    "\n",
    "heart_rate = heart_rate[heart_rate['date'].notna()]\n",
    "\n",
    "heart_rate['date'] = pd.to_datetime(heart_rate['date']).dt.date"
   ]
  },
  {
   "cell_type": "code",
   "execution_count": null,
   "id": "fossil-agenda",
   "metadata": {},
   "outputs": [],
   "source": [
    "heart_rate"
   ]
  },
  {
   "cell_type": "markdown",
   "id": "intelligent-triangle",
   "metadata": {},
   "source": [
    "## Daily Sleep Data"
   ]
  },
  {
   "cell_type": "code",
   "execution_count": null,
   "id": "loose-sequence",
   "metadata": {},
   "outputs": [],
   "source": [
    "matching_phrase = 'sleep'\n",
    "\n",
    "date = []\n",
    "start_time = []\n",
    "end_time = []\n",
    "duration = []\n",
    "asleep_min = []\n",
    "awake_min = []\n",
    "rem_min = []\n",
    "rem_30_day_avg = []\n",
    "\n",
    "for file in listdir(dir_path):\n",
    "    if matching_phrase in file:\n",
    "        with open(dir_path + file) as f:\n",
    "            data = json.load(f)\n",
    "            df = pd.json_normalize(data)\n",
    "            # this json has several levels of nested data, select only those desired for analysis later\n",
    "            df = df[['dateOfSleep', 'startTime', 'endTime','duration','minutesAsleep','minutesAwake',\n",
    "               'levels.summary.rem.minutes','levels.summary.rem.thirtyDayAvgMinutes']]\n",
    "            \n",
    "            for i in df['dateOfSleep']:\n",
    "                date.append(i)\n",
    "                \n",
    "            for i in df['startTime']:\n",
    "                start_time.append(i)\n",
    "                \n",
    "            for i in df['endTime']:\n",
    "                end_time.append(i)\n",
    "                \n",
    "            for i in df['duration']:\n",
    "                duration.append(i)\n",
    "                \n",
    "            for i in df['minutesAsleep']:\n",
    "                asleep_min.append(i)\n",
    "                \n",
    "            for i in df['minutesAwake']:\n",
    "                awake_min.append(i)\n",
    "\n",
    "            for i in df['levels.summary.rem.minutes']:\n",
    "                rem_min.append(i)\n",
    "                \n",
    "            for i in df['levels.summary.rem.thirtyDayAvgMinutes']:\n",
    "                rem_30_day_avg.append(i)         \n",
    "                \n",
    "sleep = pd.DataFrame(list(zip(date, start_time, end_time, duration, asleep_min, awake_min, rem_min, rem_30_day_avg)), \n",
    "   columns =['date', 'sleep_start_time', 'sleep_end_time', 'sleep_duration', 'asleep_min', 'awake_min', 'rem_min', 'rem_30_day_avg'])\n",
    "\n",
    "# duration is in ms (divide by 60000 to obtain minutes)\n",
    "sleep['sleep_duration'] = sleep['sleep_duration'] / 60000\n",
    "\n",
    "# ensure date formatted similarly\n",
    "sleep['date'] = pd.to_datetime(sleep['date']).dt.date"
   ]
  },
  {
   "cell_type": "code",
   "execution_count": null,
   "id": "hired-profession",
   "metadata": {},
   "outputs": [],
   "source": [
    "sleep"
   ]
  },
  {
   "cell_type": "markdown",
   "id": "african-deadline",
   "metadata": {},
   "source": [
    "## Combined Data"
   ]
  },
  {
   "cell_type": "code",
   "execution_count": null,
   "id": "banner-crisis",
   "metadata": {},
   "outputs": [],
   "source": [
    "del(dfs)"
   ]
  },
  {
   "cell_type": "code",
   "execution_count": null,
   "id": "regular-hamburg",
   "metadata": {},
   "outputs": [],
   "source": [
    "from functools import reduce\n",
    "dfs = [steps, heart_rate, sleep]\n",
    "#df_final = reduce(lambda left,right: pd.merge(left,right,on='date'), dfs)\n",
    "#df_final"
   ]
  },
  {
   "cell_type": "code",
   "execution_count": null,
   "id": "unauthorized-blake",
   "metadata": {},
   "outputs": [],
   "source": [
    "[dfs.set_index('date') for df in dfs]\n",
    "pd.DataFrame().join(dfs, on='date', how=\"outer\")"
   ]
  },
  {
   "cell_type": "code",
   "execution_count": null,
   "id": "peripheral-halifax",
   "metadata": {},
   "outputs": [],
   "source": [
    "#dfs = [df1, df2, df3]\n",
    "[dfz.set_index('date') for df in dfz]\n",
    "dfz = dfz[0].join(dfz[1:])\n",
    "dfz"
   ]
  },
  {
   "cell_type": "code",
   "execution_count": null,
   "id": "decreased-virginia",
   "metadata": {},
   "outputs": [],
   "source": [
    "fitbit_df = pd.merge(steps, heart_rate, on='date', how = 'left')"
   ]
  },
  {
   "cell_type": "code",
   "execution_count": null,
   "id": "substantial-hundred",
   "metadata": {},
   "outputs": [],
   "source": [
    "fitbit_df = pd.merge(fitbit_df, sleep, on='date', how = 'left')"
   ]
  },
  {
   "cell_type": "code",
   "execution_count": null,
   "id": "recreational-hammer",
   "metadata": {},
   "outputs": [],
   "source": [
    "fitbit_df"
   ]
  },
  {
   "cell_type": "code",
   "execution_count": null,
   "id": "complex-concentration",
   "metadata": {},
   "outputs": [],
   "source": [
    "fitbit_df.to_csv('fitbit_clean.csv', index=False)"
   ]
  }
 ],
 "metadata": {
  "kernelspec": {
   "display_name": "Python 3",
   "language": "python",
   "name": "python3"
  },
  "language_info": {
   "codemirror_mode": {
    "name": "ipython",
    "version": 3
   },
   "file_extension": ".py",
   "mimetype": "text/x-python",
   "name": "python",
   "nbconvert_exporter": "python",
   "pygments_lexer": "ipython3",
   "version": "3.8.8"
  }
 },
 "nbformat": 4,
 "nbformat_minor": 5
}
